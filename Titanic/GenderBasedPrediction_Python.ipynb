{
 "metadata": {
  "name": ""
 },
 "nbformat": 3,
 "nbformat_minor": 0,
 "worksheets": [
  {
   "cells": [
    {
     "cell_type": "code",
     "collapsed": false,
     "input": [
      "import csv as csv\n",
      "import numpy as np"
     ],
     "language": "python",
     "metadata": {},
     "outputs": [],
     "prompt_number": 1
    },
    {
     "cell_type": "code",
     "collapsed": false,
     "input": [
      "csv_data = csv.reader(open('train.csv','rb'))\n",
      "header = csv_data.next()\n",
      "data = []\n",
      "for row in csv_data:\n",
      "    data.append(row)\n",
      "data = np.array(data)\n",
      "print data"
     ],
     "language": "python",
     "metadata": {},
     "outputs": [
      {
       "output_type": "stream",
       "stream": "stdout",
       "text": [
        "[['1' '0' '3' ..., '7.25' '' 'S']\n",
        " ['2' '1' '1' ..., '71.2833' 'C85' 'C']\n",
        " ['3' '1' '3' ..., '7.925' '' 'S']\n",
        " ..., \n",
        " ['889' '0' '3' ..., '23.45' '' 'S']\n",
        " ['890' '1' '1' ..., '30' 'C148' 'C']\n",
        " ['891' '0' '3' ..., '7.75' '' 'Q']]\n"
       ]
      }
     ],
     "prompt_number": 2
    },
    {
     "cell_type": "code",
     "collapsed": false,
     "input": [
      "number_passengers = np.size(data, axis=0)\n",
      "number_survived = np.sum(data[0::,1].astype(np.float))\n",
      "#print number_survived"
     ],
     "language": "python",
     "metadata": {},
     "outputs": [],
     "prompt_number": 3
    },
    {
     "cell_type": "code",
     "collapsed": false,
     "input": [
      "men_only_stats = data[0::,4]=='male'\n",
      "women_only_stats = data[0::,4]=='female'\n",
      "men_on_board = data[men_only_stats,1]\n",
      "women_on_board = data[women_only_stats,1]\n",
      "print 'Number of men on board = ', np.size(men_on_board,axis=0)\n",
      "print 'Number of women on board = ', np.size(women_on_board,axis=0)\n",
      "men_survived = np.sum(men_on_board.astype(np.float))\n",
      "women_survived = np.sum(women_on_board.astype(np.float))\n",
      "print 'Percentage of men survived = ', men_survived*100/np.size(men_on_board,axis=0)\n",
      "print 'Percentage of women survived = ', women_survived*100/np.size(women_on_board,axis=0)"
     ],
     "language": "python",
     "metadata": {},
     "outputs": [
      {
       "output_type": "stream",
       "stream": "stdout",
       "text": [
        "Number of men on board =  577\n",
        "Number of women on board =  314\n",
        "Percentage of men survived =  18.8908145581\n",
        "Percentage of women survived =  74.2038216561\n"
       ]
      }
     ],
     "prompt_number": 4
    },
    {
     "cell_type": "code",
     "collapsed": false,
     "input": [
      "test_data = csv.reader(open('test.csv','rb'))\n",
      "header = test_data.next()\n",
      "output_prediction = csv.writer(open('GenderBasedModel.csv','w'))\n",
      "output_prediction.writerow([\"PassengerId\", \"Survived\"])\n",
      "\n",
      "for row in test_data:\n",
      "    if row[3]=='female':\n",
      "        output_prediction.writerow([row[0],'1'])\n",
      "    else:\n",
      "        output_prediction.writerow([row[0],'0'])\n",
      "\n",
      "        "
     ],
     "language": "python",
     "metadata": {},
     "outputs": [],
     "prompt_number": 13
    },
    {
     "cell_type": "code",
     "collapsed": false,
     "input": [],
     "language": "python",
     "metadata": {},
     "outputs": []
    }
   ],
   "metadata": {}
  }
 ]
}