{
 "metadata": {
  "name": ""
 },
 "nbformat": 3,
 "nbformat_minor": 0,
 "worksheets": [
  {
   "cells": [
    {
     "cell_type": "code",
     "collapsed": false,
     "input": [
      "import pandas as pd\n",
      "import numpy as np\n",
      "import csv as csv\n",
      "from sklearn.ensemble import RandomForestClassifier"
     ],
     "language": "python",
     "metadata": {},
     "outputs": [],
     "prompt_number": 1
    },
    {
     "cell_type": "code",
     "collapsed": false,
     "input": [
      "df = pd.read_csv('train.csv',header=0)\n",
      "#print df.dtypes\n",
      "#print df.describe()\n",
      "#print df.head()\n",
      "print df.Sex.head()"
     ],
     "language": "python",
     "metadata": {},
     "outputs": [
      {
       "output_type": "stream",
       "stream": "stdout",
       "text": [
        "0      male\n",
        "1    female\n",
        "2    female\n",
        "3    female\n",
        "4      male\n",
        "Name: Sex, dtype: object\n"
       ]
      }
     ],
     "prompt_number": 2
    },
    {
     "cell_type": "code",
     "collapsed": false,
     "input": [
      "df['Gender'] = df['Sex'].map({'female':0,'male':1}).astype('int')\n",
      "print df[['Sex','Gender']].head()"
     ],
     "language": "python",
     "metadata": {},
     "outputs": [
      {
       "output_type": "stream",
       "stream": "stdout",
       "text": [
        "      Sex  Gender\n",
        "0    male       1\n",
        "1  female       0\n",
        "2  female       0\n",
        "3  female       0\n",
        "4    male       1\n"
       ]
      }
     ],
     "prompt_number": 3
    },
    {
     "cell_type": "code",
     "collapsed": false,
     "input": [],
     "language": "python",
     "metadata": {},
     "outputs": [],
     "prompt_number": 3
    },
    {
     "cell_type": "code",
     "collapsed": false,
     "input": [
      "median_age = np.zeros((2,3))\n",
      "df['AgeFill'] = df['Age']\n",
      "df['AgeIsNull'] = pd.isnull(df['Age']).astype(int)\n",
      "for i in range(2):\n",
      "    for j in range(3):\n",
      "        median_age[i,j] = df[(df['Gender']==i)&(df['Pclass']==j+1)]['Age'].dropna().median()\n",
      "        df.loc[(df['Gender']==i)&(df['Pclass']==j+1)&(df['Age'].isnull()),'AgeFill'] = median_age[i,j]\n",
      "print median_age\n",
      "#print df[df['Age'].isnull()][['Age','AgeFill']]"
     ],
     "language": "python",
     "metadata": {},
     "outputs": [
      {
       "output_type": "stream",
       "stream": "stdout",
       "text": [
        "[[ 35.   28.   21.5]\n",
        " [ 40.   30.   25. ]]\n"
       ]
      }
     ],
     "prompt_number": 4
    },
    {
     "cell_type": "code",
     "collapsed": false,
     "input": [
      "df = df[~df['Embarked'].isnull()]\n"
     ],
     "language": "python",
     "metadata": {},
     "outputs": [],
     "prompt_number": 5
    },
    {
     "cell_type": "code",
     "collapsed": false,
     "input": [
      "print df['Embarked'].unique()\n",
      "df['Embark'] = df['Embarked'].map({'S':0, 'C':1, 'Q':2}).astype('int')\n",
      "print df[['Embarked', 'Embark']].head()"
     ],
     "language": "python",
     "metadata": {},
     "outputs": [
      {
       "output_type": "stream",
       "stream": "stdout",
       "text": [
        "['S' 'C' 'Q']\n",
        "  Embarked  Embark\n",
        "0        S       0\n",
        "1        C       1\n",
        "2        S       0\n",
        "3        S       0\n",
        "4        S       0\n"
       ]
      }
     ],
     "prompt_number": 6
    },
    {
     "cell_type": "code",
     "collapsed": false,
     "input": [
      "df['Family'] = df['SibSp']+df['Parch']\n",
      "print df[['SibSp','Parch','Family']].head()"
     ],
     "language": "python",
     "metadata": {},
     "outputs": [
      {
       "output_type": "stream",
       "stream": "stdout",
       "text": [
        "   SibSp  Parch  Family\n",
        "0      1      0       1\n",
        "1      1      0       1\n",
        "2      0      0       0\n",
        "3      1      0       1\n",
        "4      0      0       0\n"
       ]
      }
     ],
     "prompt_number": 7
    },
    {
     "cell_type": "code",
     "collapsed": false,
     "input": [
      "df.dtypes[df.dtypes.map(lambda x : x==object)]"
     ],
     "language": "python",
     "metadata": {},
     "outputs": [
      {
       "metadata": {},
       "output_type": "pyout",
       "prompt_number": 8,
       "text": [
        "Name        object\n",
        "Sex         object\n",
        "Ticket      object\n",
        "Cabin       object\n",
        "Embarked    object\n",
        "dtype: object"
       ]
      }
     ],
     "prompt_number": 8
    },
    {
     "cell_type": "code",
     "collapsed": false,
     "input": [
      "#print df.head()\n",
      "df = df.drop(['Name', 'Sex', 'Ticket', 'Cabin', 'Embarked', 'Age', 'PassengerId', 'SibSp', 'Parch', 'AgeIsNull'],axis=1)\n",
      "print df.head()"
     ],
     "language": "python",
     "metadata": {},
     "outputs": [
      {
       "output_type": "stream",
       "stream": "stdout",
       "text": [
        "   Survived  Pclass     Fare  Gender  AgeFill  Embark  Family\n",
        "0         0       3   7.2500       1       22       0       1\n",
        "1         1       1  71.2833       0       38       1       1\n",
        "2         1       3   7.9250       0       26       0       0\n",
        "3         1       1  53.1000       0       35       0       1\n",
        "4         0       3   8.0500       1       35       0       0\n"
       ]
      }
     ],
     "prompt_number": 9
    },
    {
     "cell_type": "code",
     "collapsed": false,
     "input": [
      "print len(test_df.dropna()), len(test_df)\n",
      "print test_df.head()"
     ],
     "language": "python",
     "metadata": {},
     "outputs": [
      {
       "output_type": "stream",
       "stream": "stdout",
       "text": [
        "417 418\n",
        "   Pclass     Fare  Gender  AgeFill  Embark  Family\n",
        "0       3   7.8292       1     34.5       2       0\n",
        "1       3   7.0000       0     47.0       0       1\n",
        "2       2   9.6875       1     62.0       2       0\n",
        "3       3   8.6625       1     27.0       0       0\n",
        "4       3  12.2875       0     22.0       0       2\n"
       ]
      }
     ],
     "prompt_number": 16
    },
    {
     "cell_type": "code",
     "collapsed": false,
     "input": [
      "test_df = pd.read_csv('test.csv', header=0)\n",
      "#print test_df.head()\n",
      "test_df['Gender'] = test_df['Sex'].map({'female':0,'male':1}).astype('int')\n",
      "#print test_df[['Sex','Gender']].head()\n",
      "#print len(test_df[test_df['Age'].isnull()])\n",
      "test_df['AgeFill'] = test_df['Age']\n",
      "for i in range(2):\n",
      "    for j in range(3):\n",
      "        test_df.loc[(test_df['Gender']==i)&(test_df['Pclass']==j+1)&(test_df['Age'].isnull()),'AgeFill'] = median_age[i,j]\n",
      "#print len(test_df[test_df['AgeFill'].isnull()])\n",
      "test_df = test_df[~test_df['Embarked'].isnull()]\n",
      "test_df['Embark'] = test_df['Embarked'].map({'S':0, 'C':1, 'Q':2}).astype('int')\n",
      "#print test_df[['Embarked', 'Embark']].head()\n",
      "test_df['Family'] = test_df['SibSp']+test_df['Parch']\n",
      "#print test_df.dtypes\n",
      "test_df = test_df.drop(['PassengerId','Name','Sex','Age','SibSp','Parch','Ticket','Cabin','Embarked'],axis=1)\n",
      "#print test_df[test_df['Fare'].isnull()]\n",
      "#test_df.loc[test_df['Fare'][152]] = 10          \n",
      "test_df = test_df.replace('nan',10)"
     ],
     "language": "python",
     "metadata": {},
     "outputs": [],
     "prompt_number": 30
    },
    {
     "cell_type": "code",
     "collapsed": false,
     "input": [
      "train_data = df.dropna().values\n",
      "test_data = test_df.values\n",
      "forest = RandomForestClassifier(n_estimators=100)\n",
      "forest = forest.fit(train_data[0::,1::],train_data[0::,0])\n",
      "output = forest.predict(test_data)"
     ],
     "language": "python",
     "metadata": {},
     "outputs": [],
     "prompt_number": 31
    },
    {
     "cell_type": "code",
     "collapsed": false,
     "input": [
      "test_csv = csv.reader(open('test.csv','rb'))\n",
      "header = test_csv.next()\n",
      "output_prediction = csv.writer(open('PandasRandomForest.csv','w'))\n",
      "output_prediction.writerow([\"PassengerId\", \"Survived\"])\n",
      "i = 0\n",
      "for row in test_csv:\n",
      "    output_prediction.writerow([row[0], str(int(output[i]))])\n",
      "    #print [row[0], str(output[i])], i\n",
      "    i = i+1\n"
     ],
     "language": "python",
     "metadata": {},
     "outputs": [],
     "prompt_number": 40
    },
    {
     "cell_type": "code",
     "collapsed": false,
     "input": [],
     "language": "python",
     "metadata": {},
     "outputs": []
    }
   ],
   "metadata": {}
  }
 ]
}